{
  "cells": [
    {
      "cell_type": "markdown",
      "metadata": {
        "id": "view-in-github",
        "colab_type": "text"
      },
      "source": [
        "<a href=\"https://colab.research.google.com/github/Hsuumyatt/MMDT_T-PY101/blob/master/Ex2_datatypes-HsuMyat.ipynb\" target=\"_parent\"><img src=\"https://colab.research.google.com/assets/colab-badge.svg\" alt=\"Open In Colab\"/></a>"
      ]
    },
    {
      "cell_type": "markdown",
      "metadata": {
        "id": "X_Unw3z9u2-7"
      },
      "source": [
        "Ex 1 : Check the lenght of the string \"My name is python\""
      ]
    },
    {
      "cell_type": "code",
      "execution_count": 2,
      "metadata": {
        "colab": {
          "base_uri": "https://localhost:8080/"
        },
        "id": "9aPcpDHu4jbf",
        "outputId": "1956518e-7405-4b20-9de5-ca08f1675cea"
      },
      "outputs": [
        {
          "output_type": "stream",
          "name": "stdout",
          "text": [
            "17\n"
          ]
        }
      ],
      "source": [
        "print(len(\"My name is python\"))"
      ]
    },
    {
      "cell_type": "markdown",
      "metadata": {
        "id": "Aft9hCSj4jbm"
      },
      "source": [
        "Ex 2: Check the number of times \"python\" (regardless of cases: PYTHON, python, Python\" appears in the paragraph : \"Floating-point values in Python are always done in double precision; hence, Python float types correspond to doubles in a C-like language.\""
      ]
    },
    {
      "cell_type": "code",
      "execution_count": 3,
      "metadata": {
        "colab": {
          "base_uri": "https://localhost:8080/"
        },
        "id": "OTyuKnWr4jbo",
        "outputId": "12fa963d-c2f2-4d1c-9bcc-e2a4095521cc"
      },
      "outputs": [
        {
          "output_type": "stream",
          "name": "stdout",
          "text": [
            "Python appears 2 times\n"
          ]
        }
      ],
      "source": [
        "paragraph = \"Floating-point values in Python are always done in double precision; hence, Python float types correspond to doubles in a C-like language.\"\n",
        "count = paragraph.lower().count(\"python\")\n",
        "print(\"Python appears {} times\".format(count))"
      ]
    },
    {
      "cell_type": "markdown",
      "metadata": {
        "id": "-up1HxuF4jbr"
      },
      "source": [
        "Ex 3: Combine two lists : ls1 = [\"apple\", \"banana\", \"cherry\"] and ls2 = [\"apple\", \"banana\", \"cherry\", \"apple\", \"cherry\"]. Print the number of elements in new list."
      ]
    },
    {
      "cell_type": "code",
      "execution_count": 5,
      "metadata": {
        "colab": {
          "base_uri": "https://localhost:8080/"
        },
        "id": "qYgSSYYj4jbs",
        "outputId": "8e505a97-eb29-4a3a-edf6-92799fa3592d"
      },
      "outputs": [
        {
          "output_type": "stream",
          "name": "stdout",
          "text": [
            "8\n"
          ]
        }
      ],
      "source": [
        "ls1 = [\"apple\", \"banana\", \"cherry\"]\n",
        "ls2 = [\"apple\", \"banana\", \"cherry\", \"apple\", \"cherry\"]\n",
        "print(len(ls1+ls2))"
      ]
    },
    {
      "cell_type": "markdown",
      "metadata": {
        "id": "tBHeC9AO4jbu"
      },
      "source": [
        "Ex 4: Create a dictionary for the following table:"
      ]
    },
    {
      "cell_type": "markdown",
      "metadata": {
        "id": "sp1Q-u9f4jbw"
      },
      "source": [
        "| Key | Value |\n",
        "| --- | --- |\n",
        "| Name | Age |\n",
        "| Myo | 32 |\n",
        "| Thida | 64 |"
      ]
    },
    {
      "cell_type": "code",
      "execution_count": null,
      "metadata": {
        "id": "PteS0LQs4jbx",
        "outputId": "822766e8-dda7-430e-926c-8d2e17600a2c"
      },
      "outputs": [
        {
          "name": "stdout",
          "output_type": "stream",
          "text": [
            "{'Name': ['Myo', 'Thida'], 'Age': [32, 64]}\n"
          ]
        }
      ],
      "source": [
        "my_dict = {'Name': ['Myo', 'Thida'], 'Age': [32, 64]}\n",
        "print(my_dict)"
      ]
    },
    {
      "cell_type": "markdown",
      "metadata": {
        "id": "GjzH690r4jbz"
      },
      "source": [
        "Ex 5: Combine two sets and print the combined set and its length.\n",
        "set1 = {\"Name\", \"age\", \"Height\"}\n",
        "set2 = {\"Name\", \"status\", \"Education\"}"
      ]
    },
    {
      "cell_type": "code",
      "execution_count": null,
      "metadata": {
        "id": "LO_VAU1X4jb0",
        "outputId": "a1365d60-c820-42d5-8990-3dbbb8537a1a"
      },
      "outputs": [
        {
          "name": "stdout",
          "output_type": "stream",
          "text": [
            "{'age', 'Height', 'Name', 'status', 'Education'} \n",
            " The number of elements in new set is 5\n"
          ]
        }
      ],
      "source": [
        "set1 = {\"Name\", \"age\", \"Height\"}\n",
        "set2 = {\"Name\", \"status\", \"Education\"}\n",
        "new_set = set1.union(set2)\n",
        "print(new_set, \"\\n The number of elements in new set is {}\".format(len(new_set)))"
      ]
    },
    {
      "cell_type": "markdown",
      "metadata": {
        "id": "hk-KC99n4jb1"
      },
      "source": [
        "Ex 6: Write a program that asks the user to enter a string. The program should create a new string called new_string from the user's string such that the second character is changed to an asterisk and three exclamation points are attached to the end of the string. Finally, print new_string."
      ]
    },
    {
      "cell_type": "code",
      "execution_count": null,
      "metadata": {
        "id": "JIp8B1fJ4jb2",
        "outputId": "7230ac86-0556-4d53-ca5c-6e1f97ec6ec6"
      },
      "outputs": [
        {
          "name": "stdout",
          "output_type": "stream",
          "text": [
            "m*o!!!\n"
          ]
        }
      ],
      "source": [
        "user_string = input(\"Enter a string: \")\n",
        "new_string = user_string.replace(user_string[1], '*')\n",
        "new_string = new_string + \"!!!\"\n",
        "print(new_string)\n"
      ]
    },
    {
      "cell_type": "markdown",
      "metadata": {
        "id": "_Hbj9VbS4jb4"
      },
      "source": [
        "Ex 7: Write a program that converts the given string 's' to lowercase, removes all Punctuation marks such as period, hyphen, and commas from 's', and prints the resulting string."
      ]
    },
    {
      "cell_type": "code",
      "execution_count": 7,
      "metadata": {
        "colab": {
          "base_uri": "https://localhost:8080/"
        },
        "id": "0dsAc0EP4jb4",
        "outputId": "6d456f38-9021-4265-a722-61a587692d2f"
      },
      "outputs": [
        {
          "output_type": "stream",
          "name": "stdout",
          "text": [
            "floatingpoint values in python are always done in double precision hence python float types correspond to doubles in a clike language\n"
          ]
        }
      ],
      "source": [
        "s = \"Floating-point values in Python are always done in double precision; hence, Python float types correspond to doubles in a C-like language.\"\n",
        "new_string = s.lower().replace(\",\",\"\").replace(\";\",\"\").replace(\".\",\"\").replace(\"-\",\"\").replace(\":\",\"\")\n",
        "print(new_string)"
      ]
    },
    {
      "cell_type": "markdown",
      "metadata": {
        "id": "9ysCAgRH4jb6"
      },
      "source": [
        "Ex 8: L1 and L2 should be identical. Write a program that finds the missing number in L2."
      ]
    },
    {
      "cell_type": "code",
      "execution_count": null,
      "metadata": {
        "id": "sGopokPm4jb6",
        "outputId": "8d25a282-ffe3-4816-d183-24b8b24f6a77"
      },
      "outputs": [
        {
          "name": "stdout",
          "output_type": "stream",
          "text": [
            "{79}\n"
          ]
        }
      ],
      "source": [
        "from random import randint\n",
        "L1 = list(range(1,101))\n",
        "L2 = L1.copy()\n",
        "L2.remove(randint(1,101))\n",
        "print(set(L1).difference(set(L2)))"
      ]
    },
    {
      "cell_type": "markdown",
      "metadata": {
        "id": "_qznHdSw4jb7"
      },
      "source": [
        "Ex 9: Write a program to copy the ls1 = [\"apple\", \"banana\", \"cherry\"] to a new list. Add the element \"blueberry\" to the new list, but keep the original list the same."
      ]
    },
    {
      "cell_type": "code",
      "execution_count": 6,
      "metadata": {
        "colab": {
          "base_uri": "https://localhost:8080/"
        },
        "id": "LXrwjyJ24jb8",
        "outputId": "7861fdde-da27-4ffa-e89d-d51f5fa10561"
      },
      "outputs": [
        {
          "output_type": "stream",
          "name": "stdout",
          "text": [
            "original: ['apple', 'banana', 'cherry']\n",
            "new list: ['apple', 'banana', 'cherry', 'blueberry']\n"
          ]
        }
      ],
      "source": [
        "ls1 = [\"apple\", \"banana\", \"cherry\"]\n",
        "ls2 =  ls1.copy()\n",
        "ls2.append(\"blueberry\")\n",
        "print('original:', ls1)\n",
        "print('new list:', ls2)"
      ]
    }
  ],
  "metadata": {
    "colab": {
      "name": "Ex_2_datatypes.ipynb",
      "provenance": [],
      "include_colab_link": true
    },
    "kernelspec": {
      "display_name": "Python 3",
      "language": "python",
      "name": "python3"
    },
    "language_info": {
      "codemirror_mode": {
        "name": "ipython",
        "version": 3
      },
      "file_extension": ".py",
      "mimetype": "text/x-python",
      "name": "python",
      "nbconvert_exporter": "python",
      "pygments_lexer": "ipython3",
      "version": "3.12.1"
    }
  },
  "nbformat": 4,
  "nbformat_minor": 0
}