{
  "cells": [
    {
      "cell_type": "markdown",
      "metadata": {
        "id": "view-in-github",
        "colab_type": "text"
      },
      "source": [
        "<a href=\"https://colab.research.google.com/github/Hsuumyatt/MMDT_T-PY101/blob/master/Ex1(HsuMyatHnin)_Python.ipynb\" target=\"_parent\"><img src=\"https://colab.research.google.com/assets/colab-badge.svg\" alt=\"Open In Colab\"/></a>"
      ]
    },
    {
      "cell_type": "markdown",
      "metadata": {
        "id": "thgO68_HZ0Aa"
      },
      "source": [
        "# Introduction"
      ]
    },
    {
      "cell_type": "markdown",
      "metadata": {
        "id": "PIh3i0c_Z_yP"
      },
      "source": [
        "This section introduces the Python Programming uisng Colab. Follow the instructions and complete the exercises."
      ]
    },
    {
      "cell_type": "markdown",
      "metadata": {
        "id": "gCw6SfeFZ78l"
      },
      "source": [
        "# Ex 1 : Check Version"
      ]
    },
    {
      "cell_type": "markdown",
      "metadata": {
        "id": "6Vm-27iLabjm"
      },
      "source": [
        "Using the below cell, Import the required library and check the version of the python in your environment."
      ]
    },
    {
      "cell_type": "code",
      "execution_count": 1,
      "metadata": {
        "id": "PJDYHB4AXVdc",
        "outputId": "c0c78ad7-1d72-41ce-9e3e-4b355f6b9958",
        "colab": {
          "base_uri": "https://localhost:8080/"
        }
      },
      "outputs": [
        {
          "output_type": "stream",
          "name": "stdout",
          "text": [
            "Python version\n",
            "3.12.11 (main, Jun  4 2025, 08:56:18) [GCC 11.4.0]\n",
            "Version info.\n",
            "sys.version_info(major=3, minor=12, micro=11, releaselevel='final', serial=0)\n"
          ]
        }
      ],
      "source": [
        "\n",
        "import sys\n",
        "\n",
        "\n",
        "print(\"Python version\")\n",
        "print(sys.version)\n",
        "print(\"Version info.\")\n",
        "print(sys.version_info)"
      ]
    },
    {
      "cell_type": "markdown",
      "metadata": {
        "id": "5qTEiwGlawf5"
      },
      "source": [
        "# Ex2 : Convert Currency."
      ]
    },
    {
      "cell_type": "markdown",
      "metadata": {
        "id": "XH8K1p0ypVCg"
      },
      "source": [
        "Write a program that asks the user for the amount in usd and converts it to British pounds. The exchange rate is from usd to BP is given as 0.82"
      ]
    },
    {
      "cell_type": "code",
      "execution_count": null,
      "metadata": {
        "id": "x9xQXOnRa0MS"
      },
      "outputs": [],
      "source": [
        "usd_amount = input (\"Enter the amount in USD: \")\n",
        "bp_amount = int(usd_amount) *0.82\n",
        "print(\"{} usd is equivalent to {} british pound\".format(usd_amount, bp_amount))"
      ]
    },
    {
      "cell_type": "markdown",
      "metadata": {
        "id": "ePfECwUIpli4"
      },
      "source": [
        "# Ex 3: Temperature Converter"
      ]
    },
    {
      "cell_type": "markdown",
      "metadata": {
        "id": "Y60hUWDsp3pK"
      },
      "source": [
        "Write a program that convert temperature in Feranhite to celsius."
      ]
    },
    {
      "cell_type": "code",
      "execution_count": 3,
      "metadata": {
        "id": "G9PbO6qPoUfn",
        "outputId": "ea7f8462-4582-426f-f556-aeb9fdfc3160",
        "colab": {
          "base_uri": "https://localhost:8080/"
        }
      },
      "outputs": [
        {
          "output_type": "stream",
          "name": "stdout",
          "text": [
            "Enter temperature in Fahrenheit: 34\n",
            "34.0°F is equal to 1.11°C\n"
          ]
        }
      ],
      "source": [
        "def fahrenheit_to_celsius(fahrenheit):\n",
        "    celsius = (fahrenheit - 32) * 5 / 9\n",
        "    return celsius\n",
        "f = float(input(\"Enter temperature in Fahrenheit: \"))\n",
        "c = fahrenheit_to_celsius(f)\n",
        "print(f\"{f}°F is equal to {c:.2f}°C\")"
      ]
    },
    {
      "cell_type": "markdown",
      "metadata": {
        "id": "a2kNRO9Vp7Qz"
      },
      "source": [
        "# Ex 4: Daily Maths"
      ]
    },
    {
      "cell_type": "markdown",
      "metadata": {
        "id": "lItKon9qqEUn"
      },
      "source": [
        "You are working in a retail shop. Write a program that computes the total cost for a customer that bought 3 differnt types of fruits : apple, orange, mango. Ask the user to enter the quantity and price for each type."
      ]
    },
    {
      "cell_type": "code",
      "execution_count": 4,
      "metadata": {
        "id": "mIQFjH6wqDma",
        "outputId": "8c68c705-3699-4938-db20-f20053a0f182",
        "colab": {
          "base_uri": "https://localhost:8080/"
        }
      },
      "outputs": [
        {
          "output_type": "stream",
          "name": "stdout",
          "text": [
            "Enter details for Apple:\n",
            "Quantity of apples: 23\n",
            "Price per apple: 100\n",
            "\n",
            "Enter details for Orange:\n",
            "Quantity of oranges: 5\n",
            "Price per orange: 50\n",
            "\n",
            "Enter details for Mango:\n",
            "Quantity of mangoes: 3\n",
            "Price per mango: 10\n",
            "\n",
            "Total cost for the customer: $2580.00\n"
          ]
        }
      ],
      "source": [
        "\n",
        "\n",
        "def compute_cost(quantity, price_per_unit):\n",
        "    return quantity * price_per_unit\n",
        "print(\"Enter details for Apple:\")\n",
        "apple_qty = int(input(\"Quantity of apples: \"))\n",
        "apple_price = float(input(\"Price per apple: \"))\n",
        "\n",
        "print(\"\\nEnter details for Orange:\")\n",
        "orange_qty = int(input(\"Quantity of oranges: \"))\n",
        "orange_price = float(input(\"Price per orange: \"))\n",
        "\n",
        "print(\"\\nEnter details for Mango:\")\n",
        "mango_qty = int(input(\"Quantity of mangoes: \"))\n",
        "mango_price = float(input(\"Price per mango: \"))\n",
        "\n",
        "\n",
        "total_cost = (\n",
        "    compute_cost(apple_qty, apple_price) +\n",
        "    compute_cost(orange_qty, orange_price) +\n",
        "    compute_cost(mango_qty, mango_price)\n",
        ")\n",
        "\n",
        "\n",
        "print(f\"\\nTotal cost for the customer: ${total_cost:.2f}\")\n"
      ]
    },
    {
      "cell_type": "markdown",
      "metadata": {
        "id": "31fXlmEQqgvW"
      },
      "source": [
        "# Ex 5 : Greeting"
      ]
    },
    {
      "cell_type": "markdown",
      "metadata": {
        "id": "zvnmj8MGrJIw"
      },
      "source": [
        "Write a program to greet the customer who provides the user name. Your program should ask the name of the customer and print \"Hello + customer name\""
      ]
    },
    {
      "cell_type": "code",
      "execution_count": 5,
      "metadata": {
        "id": "Z6ynxZMarIXh",
        "outputId": "e77ef921-e620-455e-cd88-724a4b4e478e",
        "colab": {
          "base_uri": "https://localhost:8080/"
        }
      },
      "outputs": [
        {
          "output_type": "stream",
          "name": "stdout",
          "text": [
            "Please enter your name: Hsu Myat Hnin\n",
            "Hello Hsu Myat Hnin\n"
          ]
        }
      ],
      "source": [
        "name = input(\"Please enter your name: \")\n",
        "print(\"Hello \" + name)"
      ]
    },
    {
      "cell_type": "markdown",
      "metadata": {
        "id": "-nSx5IKJPz2M"
      },
      "source": [
        "# Ex 6: Random Number\n",
        "Write a program that generates a random number, x, between 1 and 50, a random number y between 2 and 5, and computes x^y."
      ]
    },
    {
      "cell_type": "code",
      "execution_count": 8,
      "metadata": {
        "id": "qTzny6b3Pz2M",
        "outputId": "c1e93bd5-f909-4985-d343-8d1223abe03e",
        "colab": {
          "base_uri": "https://localhost:8080/"
        }
      },
      "outputs": [
        {
          "output_type": "stream",
          "name": "stdout",
          "text": [
            "x = 49\n",
            "y = 5\n",
            "x^y = 282475249\n"
          ]
        }
      ],
      "source": [
        "import random\n",
        "\n",
        "\n",
        "x = random.randint(1, 50)\n",
        "y = random.randint(2, 5)\n",
        "result = x ** y\n",
        "print(f\"x = {x}\")\n",
        "print(f\"y = {y}\")\n",
        "print(f\"x^y = {result}\")"
      ]
    },
    {
      "cell_type": "markdown",
      "metadata": {
        "id": "aRFikK3-Pz2M"
      },
      "source": [
        "# Ex 7: Greet many times.\n",
        "Write a program that generates a random number between 1 and 10 and prints your name that many times."
      ]
    },
    {
      "cell_type": "code",
      "execution_count": 14,
      "metadata": {
        "id": "UqdcNFqMPz2M",
        "outputId": "58891787-d0ce-40e2-f482-54e843ddc416",
        "colab": {
          "base_uri": "https://localhost:8080/"
        }
      },
      "outputs": [
        {
          "output_type": "stream",
          "name": "stdout",
          "text": [
            "Your Name\n",
            "Your Name\n",
            "Your Name\n",
            "Your Name\n",
            "Your Name\n",
            "Your Name\n",
            "Your Name\n"
          ]
        }
      ],
      "source": [
        "import random\n",
        "n = random.randint(1, 10)\n",
        "for i in range(n):\n",
        "    print(\"Your Name\")\n"
      ]
    },
    {
      "cell_type": "markdown",
      "metadata": {
        "id": "GAyXrfYePz2M"
      },
      "source": [
        "# Ex 8: Computing.\n",
        "Write a program that asks the user to enter two numbers, x and y, and computes |x-y|/(x+y)."
      ]
    },
    {
      "cell_type": "code",
      "execution_count": 15,
      "metadata": {
        "id": "HKL73NU3Pz2N",
        "outputId": "2fce590d-92b2-410c-ce66-527dadd11291",
        "colab": {
          "base_uri": "https://localhost:8080/"
        }
      },
      "outputs": [
        {
          "output_type": "stream",
          "name": "stdout",
          "text": [
            "Enter the first number (x): 50\n",
            "Enter the second number (y): 70\n",
            "|x - y| / (x + y) = 0.16666666666666666\n"
          ]
        }
      ],
      "source": [
        "\n",
        "x = float(input(\"Enter the first number (x): \"))\n",
        "y = float(input(\"Enter the second number (y): \"))\n",
        "\n",
        "\n",
        "if x + y == 0:\n",
        "    print(\"Error: Division by zero is not allowed.\")\n",
        "else:\n",
        "    result = abs(x - y) / (x + y)\n",
        "    print(f\"|x - y| / (x + y) = {result}\")"
      ]
    },
    {
      "cell_type": "markdown",
      "metadata": {
        "id": "jMnSLNfoPz2N"
      },
      "source": [
        "# Ex 9: Computing\n",
        "\n",
        "Write a program that asks the user for a number of seconds and prints out how many minutes and seconds that is. For instance, 200 seconds is 3 minutes and 20 seconds."
      ]
    },
    {
      "cell_type": "code",
      "execution_count": 16,
      "metadata": {
        "id": "i1vGUG8_Pz2N",
        "outputId": "371ca16d-460c-45f5-fdb8-c40b994541fe",
        "colab": {
          "base_uri": "https://localhost:8080/"
        }
      },
      "outputs": [
        {
          "output_type": "stream",
          "name": "stdout",
          "text": [
            "Enter the number of seconds: 60\n",
            "60 seconds is 1 minutes and 0 seconds.\n"
          ]
        }
      ],
      "source": [
        "\n",
        "total_seconds = int(input(\"Enter the number of seconds: \"))\n",
        "\n",
        "\n",
        "minutes = total_seconds // 60\n",
        "seconds = total_seconds % 60\n",
        "\n",
        "# Display the result\n",
        "print(f\"{total_seconds} seconds is {minutes} minutes and {seconds} seconds.\")"
      ]
    },
    {
      "cell_type": "markdown",
      "metadata": {
        "id": "tW6F87aQPz2N"
      },
      "source": [
        "# Ex 10: Using Math Module\n",
        "\n",
        "Write a program that asks the user for a number and then prints out the sine, cosine, and tangent of that number."
      ]
    },
    {
      "cell_type": "code",
      "execution_count": 19,
      "metadata": {
        "id": "qHOb3bz2Pz2N",
        "outputId": "ded26cad-e1ac-452d-9b93-1dd88a32db71",
        "colab": {
          "base_uri": "https://localhost:8080/"
        }
      },
      "outputs": [
        {
          "output_type": "stream",
          "name": "stdout",
          "text": [
            "Enter a number:50\n",
            "-0.26237485370392877\n",
            "0.9649660284921133\n",
            "-0.27190061199763077\n"
          ]
        }
      ],
      "source": [
        "import math\n",
        "num = float(input(\"Enter a number:\"))\n",
        "sine_value = math.sin(num)\n",
        "cos_value=math.cos(num)\n",
        "tan_value=math.tan(num)\n",
        "print(sine_value)\n",
        "print(cos_value)\n",
        "print(tan_value)\n",
        "\n",
        "\n",
        "\n"
      ]
    }
  ],
  "metadata": {
    "colab": {
      "name": "Ex1_Python.ipynb",
      "provenance": [],
      "include_colab_link": true
    },
    "kernelspec": {
      "display_name": "Python 3",
      "language": "python",
      "name": "python3"
    },
    "language_info": {
      "codemirror_mode": {
        "name": "ipython",
        "version": 3
      },
      "file_extension": ".py",
      "mimetype": "text/x-python",
      "name": "python",
      "nbconvert_exporter": "python",
      "pygments_lexer": "ipython3",
      "version": "3.12.1"
    }
  },
  "nbformat": 4,
  "nbformat_minor": 0
}